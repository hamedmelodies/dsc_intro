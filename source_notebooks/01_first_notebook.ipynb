{
 "cells": [
  {
   "cell_type": "markdown",
   "id": "670eb4dd",
   "metadata": {},
   "source": [
    "# Introduction\n",
    "\n",
    "This is my _first_ Jupyter notebook"
   ]
  },
  {
   "cell_type": "code",
   "execution_count": null,
   "id": "91e9d229",
   "metadata": {},
   "outputs": [],
   "source": [
    "x = 5\n",
    "y = 6\n",
    "z = x + y"
   ]
  },
  {
   "cell_type": "code",
   "execution_count": null,
   "id": "24506ea0-6d09-49d9-a96e-8000c0924216",
   "metadata": {},
   "outputs": [],
   "source": [
    "print (z)"
   ]
  },
  {
   "cell_type": "code",
   "execution_count": null,
   "id": "468c2029-74f4-438d-b9fa-e682fb6cbd60",
   "metadata": {},
   "outputs": [],
   "source": [
    "def func (N):\n",
    "    d = 0.0\n",
    "    for i in range(N):\n",
    "        d+=(i % 3 - 1 ) * i\n",
    "    return d\n",
    "   "
   ]
  },
  {
   "cell_type": "code",
   "execution_count": null,
   "id": "644a8031-4c6d-4d51-9bbe-bf352ad3f936",
   "metadata": {},
   "outputs": [],
   "source": [
    "%timeit func (1000)"
   ]
  },
  {
   "cell_type": "code",
   "execution_count": 1,
   "id": "62c80acf-b53b-4043-b810-969dbaa1a45b",
   "metadata": {},
   "outputs": [],
   "source": [
    "import numpy as np\n",
    "a= list(range(1000000000000))\n"
   ]
  },
  {
   "cell_type": "code",
   "execution_count": 4,
   "id": "155af673-13c3-4293-9f39-b39ac4ae8cf9",
   "metadata": {},
   "outputs": [
    {
     "name": "stdout",
     "output_type": "stream",
     "text": [
      "44 µs ± 378 ns per loop (mean ± std. dev. of 7 runs, 10000 loops each)\n"
     ]
    }
   ],
   "source": [
    "a=np.array(a)\n",
    "%timeit a+5"
   ]
  },
  {
   "cell_type": "code",
   "execution_count": 5,
   "id": "f54dccee-f4e8-48c5-bc9c-35b06e06aba0",
   "metadata": {},
   "outputs": [
    {
     "name": "stdout",
     "output_type": "stream",
     "text": [
      "20.1 ms ± 217 µs per loop (mean ± std. dev. of 7 runs, 10 loops each)\n"
     ]
    }
   ],
   "source": [
    "%timeit [val +5 for val in a ]\n"
   ]
  }
 ],
 "metadata": {
  "kernelspec": {
   "display_name": "Python 3 (ipykernel)",
   "language": "python",
   "name": "python3"
  },
  "language_info": {
   "codemirror_mode": {
    "name": "ipython",
    "version": 3
   },
   "file_extension": ".py",
   "mimetype": "text/x-python",
   "name": "python",
   "nbconvert_exporter": "python",
   "pygments_lexer": "ipython3",
   "version": "3.9.7"
  }
 },
 "nbformat": 4,
 "nbformat_minor": 5
}
